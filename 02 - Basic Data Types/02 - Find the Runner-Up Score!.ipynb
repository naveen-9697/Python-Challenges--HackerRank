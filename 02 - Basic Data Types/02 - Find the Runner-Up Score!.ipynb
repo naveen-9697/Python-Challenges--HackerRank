{
 "cells": [
  {
   "cell_type": "markdown",
   "metadata": {},
   "source": [
    "https://www.hackerrank.com/challenges/find-second-maximum-number-in-a-list/problem"
   ]
  },
  {
   "cell_type": "code",
   "execution_count": 1,
   "metadata": {
    "ExecuteTime": {
     "end_time": "2019-06-30T19:40:48.627878Z",
     "start_time": "2019-06-30T19:40:44.144050Z"
    }
   },
   "outputs": [
    {
     "name": "stdout",
     "output_type": "stream",
     "text": [
      "5\n",
      "2 3 6 6 5\n",
      "5\n"
     ]
    }
   ],
   "source": [
    "n = int(input())\n",
    "arr = sorted(list(set(input().split())))\n",
    "print(arr[-2])"
   ]
  },
  {
   "cell_type": "markdown",
   "metadata": {
    "ExecuteTime": {
     "end_time": "2019-06-30T19:36:34.485217Z",
     "start_time": "2019-06-30T19:36:34.482282Z"
    }
   },
   "source": [
    "this is the solution I first came up with. But, that failed with negative numbers as inputs"
   ]
  },
  {
   "cell_type": "code",
   "execution_count": 2,
   "metadata": {
    "ExecuteTime": {
     "end_time": "2019-06-30T19:41:21.344984Z",
     "start_time": "2019-06-30T19:41:18.669776Z"
    }
   },
   "outputs": [
    {
     "name": "stdout",
     "output_type": "stream",
     "text": [
      "5\n",
      "-7 -7 -7 -7 -6\n",
      "-6\n"
     ]
    }
   ],
   "source": [
    "n = int(input())\n",
    "arr = sorted(list(set(input().split())))\n",
    "print(arr[-2])"
   ]
  },
  {
   "cell_type": "markdown",
   "metadata": {
    "ExecuteTime": {
     "end_time": "2019-06-30T19:41:59.762076Z",
     "start_time": "2019-06-30T19:41:59.759099Z"
    }
   },
   "source": [
    "https://www.hackerrank.com/challenges/find-second-maximum-number-in-a-list/forum/comments/54391"
   ]
  },
  {
   "cell_type": "code",
   "execution_count": 3,
   "metadata": {
    "ExecuteTime": {
     "end_time": "2019-06-30T19:41:29.592111Z",
     "start_time": "2019-06-30T19:41:27.376179Z"
    }
   },
   "outputs": [
    {
     "name": "stdout",
     "output_type": "stream",
     "text": [
      "5\n",
      "-7 -7 -7 -7 -6\n",
      "-7\n"
     ]
    }
   ],
   "source": [
    "n = int(input())\n",
    "list_numbers = list(map(int, input().split()))\n",
    "\n",
    "max_of_list = max(list_numbers)\n",
    "\n",
    "while max(list_numbers) == max_of_list:\n",
    "    list_numbers.remove(max(list_numbers))\n",
    "\n",
    "print(max(list_numbers))"
   ]
  }
 ],
 "metadata": {
  "kernelspec": {
   "display_name": "Python 3",
   "language": "python",
   "name": "python3"
  },
  "language_info": {
   "codemirror_mode": {
    "name": "ipython",
    "version": 3
   },
   "file_extension": ".py",
   "mimetype": "text/x-python",
   "name": "python",
   "nbconvert_exporter": "python",
   "pygments_lexer": "ipython3",
   "version": "3.6.7"
  },
  "toc": {
   "base_numbering": 1,
   "nav_menu": {},
   "number_sections": true,
   "sideBar": true,
   "skip_h1_title": false,
   "title_cell": "Table of Contents",
   "title_sidebar": "Contents",
   "toc_cell": false,
   "toc_position": {},
   "toc_section_display": true,
   "toc_window_display": false
  }
 },
 "nbformat": 4,
 "nbformat_minor": 2
}
